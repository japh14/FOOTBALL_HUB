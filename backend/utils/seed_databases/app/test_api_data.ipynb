{
 "cells": [
  {
   "cell_type": "code",
   "execution_count": null,
   "id": "cdb6af7b",
   "metadata": {},
   "outputs": [
    {
     "ename": "NameError",
     "evalue": "name '__file__' is not defined",
     "output_type": "error",
     "traceback": [
      "\u001b[31m---------------------------------------------------------------------------\u001b[39m",
      "\u001b[31mNameError\u001b[39m                                 Traceback (most recent call last)",
      "\u001b[36mCell\u001b[39m\u001b[36m \u001b[39m\u001b[32mIn[4]\u001b[39m\u001b[32m, line 7\u001b[39m\n\u001b[32m      4\u001b[39m \u001b[38;5;28;01mimport\u001b[39;00m\u001b[38;5;250m \u001b[39m\u001b[34;01mjson\u001b[39;00m\n\u001b[32m      5\u001b[39m \u001b[38;5;28;01mimport\u001b[39;00m\u001b[38;5;250m \u001b[39m\u001b[34;01mpandas\u001b[39;00m\u001b[38;5;250m \u001b[39m\u001b[38;5;28;01mas\u001b[39;00m\u001b[38;5;250m \u001b[39m\u001b[34;01mpd\u001b[39;00m\n\u001b[32m----> \u001b[39m\u001b[32m7\u001b[39m project_root = Path(\u001b[34;43m__file__\u001b[39;49m).resolve().parents[\u001b[32m1\u001b[39m]  \u001b[38;5;66;03m# adjust level as needed\u001b[39;00m\n\u001b[32m      8\u001b[39m sys.path.append(\u001b[38;5;28mstr\u001b[39m(project_root))\n\u001b[32m     10\u001b[39m \u001b[38;5;28;01mfrom\u001b[39;00m\u001b[38;5;250m \u001b[39m\u001b[34;01mbackend\u001b[39;00m\u001b[34;01m.\u001b[39;00m\u001b[34;01mutils\u001b[39;00m\u001b[34;01m.\u001b[39;00m\u001b[34;01mapi_football\u001b[39;00m\u001b[34;01m.\u001b[39;00m\u001b[34;01mapp\u001b[39;00m\u001b[38;5;250m \u001b[39m\u001b[38;5;28;01mimport\u001b[39;00m APIFootballClient\n",
      "\u001b[31mNameError\u001b[39m: name '__file__' is not defined"
     ]
    }
   ],
   "source": [
    "\n",
    "from pathlib import Path\n",
    "import sys\n",
    "import json\n",
    "import pandas as pd\n",
    "\n",
    "project_root = Path(__file__).resolve().parents[1]  # adjust level as needed\n",
    "sys.path.append(str(project_root))    \n",
    "\n",
    "from backend.utils.api_football.app import APIFootballClient\n",
    "\n",
    "dir_path = Path(__file__).parent"
   ]
  },
  {
   "cell_type": "code",
   "execution_count": null,
   "id": "77920a59",
   "metadata": {},
   "outputs": [],
   "source": [
    "\n",
    "client = APIFootballClient()\n",
    "\n",
    "# countries_data_api = client.request(endpoint='countries')\n",
    "# countries_df_api = client.normalize_countries(countries_data_api)\n",
    "# print(f'Countries from API:\\n{countries_df_api.head()}')\n",
    "\n",
    "# leagues_data_api = client.request(endpoint='leagues')\n",
    "# leagues_df_api = client.normalize_leagues(leagues_data_api)\n",
    "# print(f'Leagues from API:\\n{leagues_df_api.head()}')\n",
    "\n",
    "league_ids = [39,71,140,218,61]\n",
    "\n",
    "teams_data_api = client.request_teams(league_ids=league_ids, season=2023)\n",
    "teams_df_api = client.normalize_teams(teams_data_api)\n",
    "print(f'Teams from API:\\n{teams_df_api.head()}')"
   ]
  },
  {
   "cell_type": "code",
   "execution_count": null,
   "id": "28172487",
   "metadata": {},
   "outputs": [],
   "source": [
    "teams_df_api.to_csv(dir_path / 'teams_api.csv', index=False)"
   ]
  }
 ],
 "metadata": {
  "kernelspec": {
   "display_name": ".venv",
   "language": "python",
   "name": "python3"
  },
  "language_info": {
   "codemirror_mode": {
    "name": "ipython",
    "version": 3
   },
   "file_extension": ".py",
   "mimetype": "text/x-python",
   "name": "python",
   "nbconvert_exporter": "python",
   "pygments_lexer": "ipython3",
   "version": "3.12.3"
  }
 },
 "nbformat": 4,
 "nbformat_minor": 5
}
